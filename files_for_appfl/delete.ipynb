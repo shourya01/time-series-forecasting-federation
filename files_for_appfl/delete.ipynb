{
 "cells": [
  {
   "cell_type": "code",
   "execution_count": 13,
   "metadata": {},
   "outputs": [],
   "source": [
    "import itertools\n",
    "group_sizes = [2,5,3,5]\n",
    "group_index = lambda n: next(i for i, x in enumerate(itertools.accumulate(group_sizes)) if x > n)\n",
    "relative_rank = lambda n: n - (sum(group_sizes[:group_index(n)]))"
   ]
  },
  {
   "cell_type": "code",
   "execution_count": null,
   "metadata": {},
   "outputs": [],
   "source": [
    "def get_bldg_idx(bldg_idx,bldg_counts):\n",
    "    '''\n",
    "    inputs: \n",
    "    bldg_idx: overall index of desired building\n",
    "    bldg_counts: list or tuple containing building counts for each district\n",
    "    output:\n",
    "    bldg_in_district_idx: index of desired building in its district\n",
    "    district_idx: district index\n",
    "    '''\n",
    "    if bldg_idx < 0 or bldg_idx >= sum(bldg_counts):\n",
    "        raise ValueError(\"Building index out of bounds of dataset.\")\n",
    "    district_idx =  next(i for i, x in enumerate(itertools.accumulate(bldg_counts)) if x > bldg_idx)\n",
    "    bldg_in_district_idx = bldg_idx - sum(bldg_counts[:district_idx])\n",
    "    return bldg_in_district_idx, district_idx"
   ]
  },
  {
   "cell_type": "code",
   "execution_count": 14,
   "metadata": {},
   "outputs": [
    {
     "name": "stdout",
     "output_type": "stream",
     "text": [
      "0:0:0\n",
      "\n",
      "1:0:1\n",
      "\n",
      "2:1:0\n",
      "\n",
      "3:1:1\n",
      "\n",
      "4:1:2\n",
      "\n",
      "5:1:3\n",
      "\n",
      "6:1:4\n",
      "\n",
      "7:2:0\n",
      "\n",
      "8:2:1\n",
      "\n",
      "9:2:2\n",
      "\n",
      "10:3:0\n",
      "\n",
      "11:3:1\n",
      "\n",
      "12:3:2\n",
      "\n",
      "13:3:3\n",
      "\n",
      "14:3:4\n",
      "\n"
     ]
    },
    {
     "ename": "StopIteration",
     "evalue": "",
     "output_type": "error",
     "traceback": [
      "\u001b[0;31m---------------------------------------------------------------------------\u001b[0m",
      "\u001b[0;31mStopIteration\u001b[0m                             Traceback (most recent call last)",
      "Cell \u001b[0;32mIn[14], line 2\u001b[0m\n\u001b[1;32m      1\u001b[0m \u001b[39mfor\u001b[39;00m i \u001b[39min\u001b[39;00m \u001b[39mrange\u001b[39m(\u001b[39m100\u001b[39m):\n\u001b[0;32m----> 2\u001b[0m     \u001b[39mprint\u001b[39m(\u001b[39mf\u001b[39m\u001b[39m\"\u001b[39m\u001b[39m{\u001b[39;00mi\u001b[39m}\u001b[39;00m\u001b[39m:\u001b[39m\u001b[39m{\u001b[39;00mgroup_index(i)\u001b[39m}\u001b[39;00m\u001b[39m:\u001b[39m\u001b[39m{\u001b[39;00mrelative_rank(i)\u001b[39m}\u001b[39;00m\u001b[39m\\n\u001b[39;00m\u001b[39m\"\u001b[39m)\n",
      "Cell \u001b[0;32mIn[13], line 3\u001b[0m, in \u001b[0;36m<lambda>\u001b[0;34m(n)\u001b[0m\n\u001b[1;32m      1\u001b[0m \u001b[39mimport\u001b[39;00m \u001b[39mitertools\u001b[39;00m\n\u001b[1;32m      2\u001b[0m group_sizes \u001b[39m=\u001b[39m [\u001b[39m2\u001b[39m,\u001b[39m5\u001b[39m,\u001b[39m3\u001b[39m,\u001b[39m5\u001b[39m]\n\u001b[0;32m----> 3\u001b[0m group_index \u001b[39m=\u001b[39m \u001b[39mlambda\u001b[39;00m n: \u001b[39mnext\u001b[39;49m(i \u001b[39mfor\u001b[39;49;00m i, x \u001b[39min\u001b[39;49;00m \u001b[39menumerate\u001b[39;49m(itertools\u001b[39m.\u001b[39;49maccumulate(group_sizes)) \u001b[39mif\u001b[39;49;00m x \u001b[39m>\u001b[39;49m n)\n\u001b[1;32m      4\u001b[0m relative_rank \u001b[39m=\u001b[39m \u001b[39mlambda\u001b[39;00m n: n \u001b[39m-\u001b[39m (\u001b[39msum\u001b[39m(group_sizes[:group_index(n)]))\n",
      "\u001b[0;31mStopIteration\u001b[0m: "
     ]
    }
   ],
   "source": [
    "for i in range(100):\n",
    "    print(f\"{i}:{group_index(i)}:{relative_rank(i)}\\n\")"
   ]
  },
  {
   "cell_type": "code",
   "execution_count": null,
   "metadata": {},
   "outputs": [],
   "source": []
  }
 ],
 "metadata": {
  "language_info": {
   "name": "python"
  }
 },
 "nbformat": 4,
 "nbformat_minor": 2
}
