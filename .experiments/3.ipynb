{
 "cells": [
  {
   "cell_type": "code",
   "execution_count": 64,
   "metadata": {},
   "outputs": [
    {
     "name": "stdout",
     "output_type": "stream",
     "text": [
      "/lcrc/project/NEXTGENOPT/NREL_COMSTOCK_DATA 7\n",
      "/lcrc/project/NEXTGENOPT/NREL_COMSTOCK_DATA/TN 7903\n",
      "/lcrc/project/NEXTGENOPT/NREL_COMSTOCK_DATA/IA 2846\n",
      "/lcrc/project/NEXTGENOPT/NREL_COMSTOCK_DATA/IN 7357\n",
      "/lcrc/project/NEXTGENOPT/NREL_COMSTOCK_DATA/AK 505\n",
      "/lcrc/project/NEXTGENOPT/NREL_COMSTOCK_DATA/FL 24812\n",
      "/lcrc/project/NEXTGENOPT/NREL_COMSTOCK_DATA/NJ 10746\n",
      "/lcrc/project/NEXTGENOPT/NREL_COMSTOCK_DATA/SC 7326\n",
      "/lcrc/project/NEXTGENOPT/NREL_COMSTOCK_DATA/CO 6044\n",
      "/lcrc/project/NEXTGENOPT/NREL_COMSTOCK_DATA/PA 14531\n",
      "/lcrc/project/NEXTGENOPT/NREL_COMSTOCK_DATA/KS 3164\n",
      "/lcrc/project/NEXTGENOPT/NREL_COMSTOCK_DATA/MD 5484\n",
      "/lcrc/project/NEXTGENOPT/NREL_COMSTOCK_DATA/HI 937\n",
      "/lcrc/project/NEXTGENOPT/NREL_COMSTOCK_DATA/MO 6252\n",
      "/lcrc/project/NEXTGENOPT/NREL_COMSTOCK_DATA/grouped 2\n",
      "/lcrc/project/NEXTGENOPT/NREL_COMSTOCK_DATA/VA 7365\n",
      "/lcrc/project/NEXTGENOPT/NREL_COMSTOCK_DATA/TX 27998\n",
      "/lcrc/project/NEXTGENOPT/NREL_COMSTOCK_DATA/AR 3283\n",
      "/lcrc/project/NEXTGENOPT/NREL_COMSTOCK_DATA/weather 3043\n",
      "/lcrc/project/NEXTGENOPT/NREL_COMSTOCK_DATA/AZ 5981\n",
      "/lcrc/project/NEXTGENOPT/NREL_COMSTOCK_DATA/NV 2775\n",
      "/lcrc/project/NEXTGENOPT/NREL_COMSTOCK_DATA/VT 533\n",
      "/lcrc/project/NEXTGENOPT/NREL_COMSTOCK_DATA/ND 688\n",
      "/lcrc/project/NEXTGENOPT/NREL_COMSTOCK_DATA/CA 39347\n",
      "/lcrc/project/NEXTGENOPT/NREL_COMSTOCK_DATA/NY 19567\n",
      "/lcrc/project/NEXTGENOPT/NREL_COMSTOCK_DATA/CT 4498\n",
      "/lcrc/project/NEXTGENOPT/NREL_COMSTOCK_DATA/MA 6860\n",
      "/lcrc/project/NEXTGENOPT/NREL_COMSTOCK_DATA/MN 5170\n",
      "/lcrc/project/NEXTGENOPT/NREL_COMSTOCK_DATA/MI 12341\n",
      "/lcrc/project/NEXTGENOPT/NREL_COMSTOCK_DATA/UT 3138\n",
      "/lcrc/project/NEXTGENOPT/NREL_COMSTOCK_DATA/MT 920\n",
      "/lcrc/project/NEXTGENOPT/NREL_COMSTOCK_DATA/OH 15016\n",
      "/lcrc/project/NEXTGENOPT/NREL_COMSTOCK_DATA/WA 6815\n",
      "/lcrc/project/NEXTGENOPT/NREL_COMSTOCK_DATA/OK 4933\n",
      "/lcrc/project/NEXTGENOPT/NREL_COMSTOCK_DATA/WI 6817\n",
      "/lcrc/project/NEXTGENOPT/NREL_COMSTOCK_DATA/WV 2279\n",
      "/lcrc/project/NEXTGENOPT/NREL_COMSTOCK_DATA/DC 949\n",
      "/lcrc/project/NEXTGENOPT/NREL_COMSTOCK_DATA/LA 4938\n",
      "/lcrc/project/NEXTGENOPT/NREL_COMSTOCK_DATA/WY 497\n",
      "/lcrc/project/NEXTGENOPT/NREL_COMSTOCK_DATA/ID 2465\n",
      "/lcrc/project/NEXTGENOPT/NREL_COMSTOCK_DATA/IL 12088\n",
      "/lcrc/project/NEXTGENOPT/NREL_COMSTOCK_DATA/NE 1957\n",
      "/lcrc/project/NEXTGENOPT/NREL_COMSTOCK_DATA/NM 2272\n",
      "/lcrc/project/NEXTGENOPT/NREL_COMSTOCK_DATA/AL 5223\n",
      "/lcrc/project/NEXTGENOPT/NREL_COMSTOCK_DATA/NH 1638\n",
      "/lcrc/project/NEXTGENOPT/NREL_COMSTOCK_DATA/NC 11814\n",
      "/lcrc/project/NEXTGENOPT/NREL_COMSTOCK_DATA/SD 633\n",
      "/lcrc/project/NEXTGENOPT/NREL_COMSTOCK_DATA/KY 4285\n",
      "/lcrc/project/NEXTGENOPT/NREL_COMSTOCK_DATA/ME 1821\n",
      "/lcrc/project/NEXTGENOPT/NREL_COMSTOCK_DATA/RI 1502\n",
      "/lcrc/project/NEXTGENOPT/NREL_COMSTOCK_DATA/MS 2539\n",
      "/lcrc/project/NEXTGENOPT/NREL_COMSTOCK_DATA/GA 11366\n",
      "/lcrc/project/NEXTGENOPT/NREL_COMSTOCK_DATA/OR 5098\n",
      "/lcrc/project/NEXTGENOPT/NREL_COMSTOCK_DATA/DE 919\n"
     ]
    }
   ],
   "source": [
    "# in this python notebook, we carry out experiments to figure out how to convert the downloaded data into a format which can be used for gradient-based \n",
    "\n",
    "data_dir = '/lcrc/project/NEXTGENOPT/NREL_COMSTOCK_DATA' # where all the data is stored \n",
    "dir_names = ['NH', 'IN', 'NM', 'CA', 'GA', 'IL', 'MT', 'NE', 'AL', 'WI', 'IA', 'AR', 'AK', 'MD', 'NJ', 'VA', 'MO', 'CO', 'NV', 'SD',\n",
    "             'WV', 'NC', 'FL', 'TN', 'ID', 'MS', 'MI', 'NY', 'VT', 'OR', 'HI', 'KY', 'OH', 'UT', 'DE', 'MA', 'KS', 'RI', 'WA', 'LA',\n",
    "             'ND', 'AZ', 'OK', 'MN', 'TX', 'SC', 'PA', 'WY', 'ME', 'DC', 'CT', 'weather']\n",
    "versionID = 32 # version of the dataset we are using\n",
    "\n",
    "# we first verify how many files are there for each state\n",
    "\n",
    "import os\n",
    "for subdir, dirs, files in os.walk(data_dir):\n",
    "    if subdir != '.':\n",
    "        print(subdir, len([f for f in files if os.path.isfile(os.path.join(subdir, f))]))"
   ]
  },
  {
   "cell_type": "code",
   "execution_count": 65,
   "metadata": {},
   "outputs": [
    {
     "name": "stderr",
     "output_type": "stream",
     "text": [
      "7857it [00:04, 1871.87it/s]"
     ]
    },
    {
     "name": "stdout",
     "output_type": "stream",
     "text": [
      "For building_ID: 5486, state: AK, county: G0202750, building data: False, weather data: False.\n",
      "For building_ID: 5509, state: AK, county: G0202900, building data: True, weather data: False.\n",
      "For building_ID: 5742, state: AK, county: G0202700, building data: True, weather data: False.\n"
     ]
    },
    {
     "name": "stderr",
     "output_type": "stream",
     "text": [
      "288102it [02:36, 1863.57it/s]"
     ]
    },
    {
     "name": "stdout",
     "output_type": "stream",
     "text": [
      "For building_ID: 5611, state: AK, county: G0202900, building data: True, weather data: False.\n"
     ]
    },
    {
     "name": "stderr",
     "output_type": "stream",
     "text": [
      "346185it [03:08, 1840.26it/s]"
     ]
    },
    {
     "name": "stdout",
     "output_type": "stream",
     "text": [
      "Verified that 346181/346185 datafiles exist.\n"
     ]
    },
    {
     "name": "stderr",
     "output_type": "stream",
     "text": [
      "\n"
     ]
    }
   ],
   "source": [
    "# Read the metadata parquet file and verify whether all the (bldg_id,state,in_puma_county_gisjoin)\n",
    "\n",
    "import pandas as pd\n",
    "from tqdm import tqdm\n",
    "df = pd.read_parquet(data_dir+'/upgrade32.parquet')\n",
    "\n",
    "bldg_id_list = df.index.tolist() # building id List\n",
    "state_name_list = df['in.state'].tolist() # state name list\n",
    "county_id_list = df['in.nhgis_county_gisjoin'].tolist() # county gisjoin list\n",
    "\n",
    "# run loop\n",
    "ctr0, ctr1 = 0, 0\n",
    "for a,b,c in (t:=tqdm(zip(bldg_id_list,state_name_list,county_id_list))):\n",
    "    parquet_path = data_dir + f'/{b}/{a}-{versionID}.parquet'\n",
    "    weather_path = data_dir + f'/weather/{c}_2018.csv'\n",
    "    par_exists = os.path.exists(parquet_path)\n",
    "    wea_exists = os.path.exists(weather_path)\n",
    "    if not (par_exists and wea_exists):\n",
    "        print(f'For building_ID: {a}, state: {b}, county: {c}, building data: {par_exists}, weather data: {wea_exists}.')\n",
    "        # t.set_description(f'Check for building_ID: {a}, state: {b}, county: {c} not nominal.')\n",
    "    else:\n",
    "        ctr0 += 1\n",
    "        # t.set_description(f'Check for building_ID: {a}, state: {b}, county: {c} nominal.')\n",
    "    \n",
    "    ctr1 += 1\n",
    "    \n",
    "print(f'Verified that {ctr0}/{ctr1} datafiles exist.')\n"
   ]
  },
  {
   "cell_type": "code",
   "execution_count": 66,
   "metadata": {},
   "outputs": [
    {
     "name": "stdout",
     "output_type": "stream",
     "text": [
      "S3 filepath s3://oedi-data-lake/nrel-pds-building-stock/end-use-load-profiles-for-us-building-stock/2024/comstock_amy2018_release_1/timeseries_individual_buildings/by_state/upgrade=32/state=AK/5486-32.parquet does not exist.\n",
      "S3 filepath s3://oedi-data-lake/nrel-pds-building-stock/end-use-load-profiles-for-us-building-stock/2024/comstock_amy2018_release_1/weather/amy2018/G0202750_2018.csv does not exist.\n",
      "S3 filepath s3://oedi-data-lake/nrel-pds-building-stock/end-use-load-profiles-for-us-building-stock/2024/comstock_amy2018_release_1/weather/amy2018/G0202900_2018.csv does not exist.\n",
      "S3 filepath s3://oedi-data-lake/nrel-pds-building-stock/end-use-load-profiles-for-us-building-stock/2024/comstock_amy2018_release_1/weather/amy2018/G0202700_2018.csv does not exist.\n"
     ]
    }
   ],
   "source": [
    "# Manually attempt to download some of the missing data\n",
    "\n",
    "import s3fs\n",
    "bucket_name = 'oedi-data-lake'\n",
    "fs = s3fs.S3FileSystem(anon=True)\n",
    "\n",
    "missing_parquets = [('AK',5486)]\n",
    "weather_data = ['G0202750','G0202900','G0202700']\n",
    "\n",
    "parquet_dlist = [f'nrel-pds-building-stock/end-use-load-profiles-for-us-building-stock/2024/comstock_amy2018_release_1/timeseries_individual_buildings/by_state/upgrade={versionID}/state={key}/{v}-{versionID}.parquet'\n",
    "                 for (key,v) in missing_parquets]\n",
    "weather_dlist = [f'nrel-pds-building-stock/end-use-load-profiles-for-us-building-stock/2024/comstock_amy2018_release_1/weather/amy2018/{w}_2018.csv' for w in weather_data]\n",
    "\n",
    "parquet_locals = [data_dir + f'/{b}' for b,_ in missing_parquets]\n",
    "weather_locals = [data_dir + f'/weather' for _ in weather_dlist]\n",
    "\n",
    "for pd,pl in zip(parquet_dlist,parquet_locals):\n",
    "    s3_path = f's3://{bucket_name}/{pd}'\n",
    "    if fs.exists(s3_path):\n",
    "        fs.get(s3_path, pl)\n",
    "    else:\n",
    "        print(f'S3 filepath {s3_path} does not exist.')\n",
    "        \n",
    "for wd,wl in zip(weather_dlist,weather_locals):\n",
    "    s3_path = f's3://{bucket_name}/{wd}'\n",
    "    if fs.exists(s3_path):\n",
    "        fs.get(s3_path, wl)\n",
    "    else:\n",
    "        print(f'S3 filepath {s3_path} does not exist.')"
   ]
  },
  {
   "cell_type": "code",
   "execution_count": 67,
   "metadata": {},
   "outputs": [
    {
     "data": {
      "text/plain": [
       "(0.0, 3044.0)"
      ]
     },
     "execution_count": 67,
     "metadata": {},
     "output_type": "execute_result"
    },
    {
     "data": {
      "image/png": "[encoded data removed]",
      "text/plain": [
       "<Figure size 640x480 with 1 Axes>"
      ]
     },
     "metadata": {},
     "output_type": "display_data"
    }
   ],
   "source": [
    "# We now plot the number of buildings per weather area\n",
    "\n",
    "import numpy as np\n",
    "import matplotlib.pyplot as plt\n",
    "\n",
    "# convert to histogram\n",
    "unique, inverse = np.unique(county_id_list, return_inverse=True)\n",
    "hist = np.bincount(inverse)\n",
    "\n",
    "# plot\n",
    "import matplotlib.pyplot as plt\n",
    "plt.plot(hist)\n",
    "plt.ylabel('Number of buildings')\n",
    "plt.xlabel('Index of district/weather zone.')\n",
    "plt.xlim((0,hist.size-1))"
   ]
  },
  {
   "cell_type": "code",
   "execution_count": 68,
   "metadata": {},
   "outputs": [
    {
     "name": "stdout",
     "output_type": "stream",
     "text": [
      "Opening data file for building ID 74 and state AL\n",
      "Opening weather file for county ID G0101010 and state AL\n",
      "Saving load data in non-compressed format took 0.0048182010650634766s and is 274.267578125 kilobytes\n",
      "Saving load data in compressed format took 0.013019561767578125s and is 257.1572265625 kilobytes\n",
      "Saving weather data in non-compressed format took 0.0015170574188232422s and is 1095.2578125 kilobytes\n",
      "Saving weather data in compressed format took 0.0123291015625s and is 45.07421875 kilobytes\n"
     ]
    }
   ],
   "source": [
    "# Now we experiment over acquiring a specific parquet file, and dig into its innards\n",
    "\n",
    "import pandas as pd\n",
    "\n",
    "# We are somewhat replicating from a block above, but the following is a self-contained way to extract data from the data files\n",
    "df = pd.read_parquet(data_dir + '/upgrade32.parquet')\n",
    "df1 = df\n",
    "bldg_id_list = df.index.tolist() # building id List\n",
    "state_name_list = df['in.state'].tolist() # state name list\n",
    "county_id_list = df['in.nhgis_county_gisjoin'].tolist() # county gisjoin list\n",
    "\n",
    "# extract lists of static features\n",
    "floor_area_list = df['calc.weighted.sqft'].tolist()\n",
    "wall_area_list = df['out.params.ext_wall_area..m2'].tolist()\n",
    "window_area_list = df['out.params.ext_window_area..m2'].tolist()\n",
    "\n",
    "# now test out a building parquet\n",
    "print(f\"Opening data file for building ID {bldg_id_list[0]} and state {state_name_list[0]}\")\n",
    "this_parquet_path = data_dir + f'/{state_name_list[0]}/{bldg_id_list[0]}-{versionID}.parquet'\n",
    "df = pd.read_parquet(this_parquet_path)\n",
    "\n",
    "# extract relevant data\n",
    "consumption = df['out.electricity.total.energy_consumption'].tolist()\n",
    "time_idx = ((df['timestamp'] - df['timestamp'].dt.normalize()) / np.timedelta64(15, 'm')).astype(int).tolist()\n",
    "day_idx = df['timestamp'].dt.dayofweek.tolist()\n",
    "\n",
    "# now test out a weather parquet\n",
    "print(f\"Opening weather file for county ID {county_id_list[0]} and state {state_name_list[0]}\")\n",
    "this_csv_path = data_dir + f'/weather/{county_id_list[0]}_2018.csv'\n",
    "df = pd.read_csv(this_csv_path)\n",
    "\n",
    "# extract relevant data\n",
    "db_temp = np.repeat(df['Dry Bulb Temperature [°C]'].to_numpy(),4).tolist()\n",
    "w_speed = np.repeat(df['Wind Speed [m/s]'].to_numpy(),4).tolist()\n",
    "\n",
    "# now save the data as a numpy array and measure the time\n",
    "data1 = np.array([consumption])\n",
    "data2 = np.array([[floor_area_list[0],wall_area_list[0],window_area_list[0]]])\n",
    "wdata = np.array([db_temp,w_speed,time_idx,day_idx])\n",
    "\n",
    "# npz file - data\n",
    "import os, time\n",
    "start = time.time()\n",
    "np.savez(os.getcwd()+'/test.npz',cons=data1,static=data2)\n",
    "end = time.time()\n",
    "fsize = os.path.getsize(os.getcwd()+'/test.npz') / 1024 # kilobytes\n",
    "print(f\"Saving load data in non-compressed format took {end-start}s and is {fsize} kilobytes\")\n",
    "os.remove(os.getcwd()+'/test.npz')\n",
    "\n",
    "# npz file compressed - data\n",
    "start = time.time()\n",
    "np.savez_compressed(os.getcwd()+'/test.npz',cons=data1,static=data2)\n",
    "end = time.time()\n",
    "fsize = os.path.getsize(os.getcwd()+'/test.npz') / 1024 # kilobytes\n",
    "print(f\"Saving load data in compressed format took {end-start}s and is {fsize} kilobytes\")\n",
    "os.remove(os.getcwd()+'/test.npz')\n",
    "\n",
    "# npz file - weather\n",
    "start = time.time()\n",
    "np.savez(os.getcwd()+'/test.npz',wdata=wdata)\n",
    "end = time.time()\n",
    "fsize = os.path.getsize(os.getcwd()+'/test.npz') / 1024 # kilobytes\n",
    "print(f\"Saving weather data in non-compressed format took {end-start}s and is {fsize} kilobytes\")\n",
    "os.remove(os.getcwd()+'/test.npz')\n",
    "\n",
    "# npz file compressed - weather\n",
    "start = time.time()\n",
    "np.savez_compressed(os.getcwd()+'/test.npz',wdata=wdata)\n",
    "end = time.time()\n",
    "fsize = os.path.getsize(os.getcwd()+'/test.npz') / 1024 # kilobytes\n",
    "print(f\"Saving weather data in compressed format took {end-start}s and is {fsize} kilobytes\")\n",
    "os.remove(os.getcwd()+'/test.npz')"
   ]
  },
  {
   "cell_type": "code",
   "execution_count": 69,
   "metadata": {},
   "outputs": [],
   "source": [
    "# # example of splits (DO NOT EXECUTE) - now present in 4.py\n",
    "\n",
    "# import os\n",
    "# import numpy as np\n",
    "# import pandas as pd\n",
    "# from collections import defaultdict\n",
    "# from itertools import islice\n",
    "# from tqdm import tqdm\n",
    "\n",
    "# def split_dict(input_dict, n):\n",
    "#     # split a dictionary into n almost-equal parts\n",
    "#     it = iter(input_dict)\n",
    "#     return [dict(islice(it, i)) for i in [len(input_dict) // n + (1 if x < len(input_dict) % n else 0)  for x in range(n)]]\n",
    "\n",
    "# base_dir = '/lcrc/project/NEXTGENOPT/NREL_COMSTOCK_DATA' # data directory\n",
    "# versionID = 32 # NREL Comstock upgrade version\n",
    "\n",
    "# # read default PARQUET file\n",
    "# metadata = pd.read_parquet(base_dir+f'/upgrade{versionID}.parquet')\n",
    "\n",
    "# # extract relevant info as lists\n",
    "# bldg_id_list = metadata.index.tolist() # building id List\n",
    "# state_name_list = metadata['in.state'].tolist() # state name list\n",
    "# county_id_list = metadata['in.nhgis_county_gisjoin'].tolist() # county gisjoin list\n",
    "# floor_area_list = metadata['calc.weighted.sqft'].tolist() # floor area list\n",
    "# wall_area_list = metadata['out.params.ext_wall_area..m2'].tolist() # wall area list\n",
    "# window_area_list = metadata['out.params.ext_window_area..m2'].tolist() # window area list\n",
    "\n",
    "# # group by county id\n",
    "# grouped = defaultdict(list)\n",
    "# for a,b,c,d,e,f in zip(bldg_id_list,state_name_list,county_id_list,floor_area_list,wall_area_list,window_area_list):\n",
    "#     grouped[c].append((a,b,c,d,e,f))\n",
    "    \n",
    "# # make directory to store datas\n",
    "# os.makedirs(base_dir+'/grouped',exist_ok=True)\n",
    "    \n",
    "# # loop across dict keys\n",
    "# for key in tqdm(grouped.keys()):\n",
    "#     # read weather data\n",
    "#     weather_path = base_dir + f'/weather/{c}_2018.csv'\n",
    "#     if not os.path.exists(weather_path):\n",
    "#         continue\n",
    "#     else:\n",
    "#         weather_df = pd.read_csv(weather_path)\n",
    "#         db_temp = np.repeat(weather_df['Dry Bulb Temperature [°C]'].to_numpy(),4).tolist()\n",
    "#         w_speed = np.repeat(weather_df['Wind Speed [m/s]'].to_numpy(),4).tolist()\n",
    "#         dtidx_recorded = False # we will record daytime indices when we load the consumption files\n",
    "#         data1, data2 = [], []\n",
    "#         for a,b,c,d,e,f in grouped[key]:\n",
    "#             bldg_path = base_dir + f'/{b}/{a}-{versionID}.parquet'\n",
    "#             if os.path.exists(bldg_path):\n",
    "#                 bldg_df = pd.read_parquet(bldg_path)\n",
    "#             else:\n",
    "#                 continue\n",
    "#             consumption = bldg_df['out.electricit y.total.energy_consumption'].tolist()\n",
    "#             if not dtidx_recorded:\n",
    "#                 time_idx = ((bldg_df['timestamp'] - bldg_df['timestamp'].dt.normalize()) / np.timedelta64(15, 'm')).astype(int).tolist()\n",
    "#                 day_idx = bldg_df['timestamp'].dt.dayofweek.tolist()\n",
    "#                 dtidx_recorded = True\n",
    "#             data1.append(consumption)\n",
    "#             data2.append([d,e,f])\n",
    "#         if dtidx_recorded == False:\n",
    "#             continue\n",
    "#         wdata = [db_temp,w_speed,time_idx,day_idx]\n",
    "#         data1, data2, wdata = np.array(data1), np.array(data2), np.array(wdata)\n",
    "#         # save files\n",
    "#         np.savez_compressed(base_dir+f'/grouped/{key}_data.npz',load=data1,static=data2)\n",
    "#         np.savez_compressed(base_dir+f'/grouped/{key}_data.npz',wdata=wdata)\n",
    "        "
   ]
  }
 ],
 "metadata": {
  "language_info": {
   "name": "python"
  }
 },
 "nbformat": 4,
 "nbformat_minor": 2
}
