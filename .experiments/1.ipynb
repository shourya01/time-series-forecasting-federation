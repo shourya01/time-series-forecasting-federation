{
 "cells": [
  {
   "cell_type": "markdown",
   "metadata": {},
   "source": [
    "This script convers the data present in uncompressed npz files into the compressed version, thereby saving space as well as allowing it to be uploaded on github without triggering the file size check."
   ]
  },
  {
   "cell_type": "code",
   "execution_count": 15,
   "metadata": {},
   "outputs": [],
   "source": [
    "import numpy as np\n",
    "import os\n",
    "\n",
    "# data file paths\n",
    "filepaths = [f\"/home/sbose/time-series-forecasting-federation/data/NREL{s}dataset.npz\" for s in ['CA','IL','NY']]\n",
    "\n",
    "# loop across files\n",
    "for fp in filepaths:\n",
    "    data = np.load(fp)['data']\n",
    "    np.savez_compressed(fp,data=data)"
   ]
  }
 ],
 "metadata": {
  "language_info": {
   "name": "python"
  }
 },
 "nbformat": 4,
 "nbformat_minor": 2
}
