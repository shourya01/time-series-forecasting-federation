{
 "cells": [
  {
   "cell_type": "code",
   "execution_count": 1,
   "metadata": {},
   "outputs": [],
   "source": [
    "# In this jupyter notebook, we test out the dataset loaders code writen in files_for_appfl/comstock_dataloader\n",
    "\n",
    "import os, sys\n",
    "sys.path.insert(0,'/home/sbose/time-series-forecasting-federation')\n",
    "from files_for_appfl.comstock_dataloader import get_comstock\n",
    "from files_for_appfl.tsf_loss import TSFLoss\n",
    "from models.LSTM.LSTMAR import LSTMAR"
   ]
  },
  {
   "cell_type": "code",
   "execution_count": 2,
   "metadata": {},
   "outputs": [],
   "source": [
    "# get a data from the dataloader\n",
    "train, test = get_comstock(num_bldg=5)"
   ]
  },
  {
   "cell_type": "code",
   "execution_count": 3,
   "metadata": {},
   "outputs": [
    {
     "data": {
      "text/plain": [
       "device(type='cuda', index=0)"
      ]
     },
     "execution_count": 3,
     "metadata": {},
     "output_type": "execute_result"
    }
   ],
   "source": [
    "# get an input output data pair from the dataloader and check out whether the modified 'tuple' format with a 'to' method is working or not.\n",
    "for inp, out in iter(train[0]):\n",
    "    inp, out = inp.to('cuda'), out.to('cuda')\n",
    "    break\n",
    "inp.device"
   ]
  },
  {
   "cell_type": "code",
   "execution_count": 4,
   "metadata": {},
   "outputs": [
    {
     "data": {
      "text/plain": [
       "tensor(691.1808, device='cuda:0', grad_fn=<MseLossBackward0>)"
      ]
     },
     "execution_count": 4,
     "metadata": {},
     "output_type": "execute_result"
    }
   ],
   "source": [
    "# Check out the loss function\n",
    "import torch\n",
    "import torch.nn as nn\n",
    "lossfn = TSFLoss()\n",
    "model = LSTMAR(\n",
    "    input_size = 16,\n",
    "    u_size = 2,\n",
    "    hidden_size = 20,\n",
    "    num_layers = 2,\n",
    "    y_size = 1,\n",
    "    fcnn_sizes = (20,10,10,1),\n",
    "    activation = nn.ReLU,\n",
    "    lookahead = 4,\n",
    "    dtype = torch.float32\n",
    ").to('cuda')\n",
    "lossfn(model(inp.unsqueeze(0)),out.unsqueeze(0))"
   ]
  }
 ],
 "metadata": {
  "language_info": {
   "name": "python"
  }
 },
 "nbformat": 4,
 "nbformat_minor": 2
}
